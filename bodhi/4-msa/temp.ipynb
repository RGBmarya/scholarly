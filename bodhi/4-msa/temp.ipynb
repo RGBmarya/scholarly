{
 "cells": [
  {
   "cell_type": "markdown",
   "metadata": {},
   "source": [
    "Find the MSA for each directed graph using the Chu-Liu/Edmonds/Bock Algorithm. The resulting arborescence serves as a reading path for researchers. For a detailed explanation of the Chu-Liu/Edmonds/Bock Algorithm, refer to [Section 2.2](https://www.cs.cmu.edu/~15850/notes/lec2.pdf)."
   ]
  },
  {
   "cell_type": "code",
   "execution_count": null,
   "metadata": {},
   "outputs": [],
   "source": []
  }
 ],
 "metadata": {
  "language_info": {
   "name": "python"
  }
 },
 "nbformat": 4,
 "nbformat_minor": 2
}
